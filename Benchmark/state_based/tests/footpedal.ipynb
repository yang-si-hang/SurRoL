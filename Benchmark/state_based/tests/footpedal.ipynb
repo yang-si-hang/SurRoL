{
 "cells": [
  {
   "cell_type": "code",
   "execution_count": null,
   "id": "9ad40ffe-ba6f-4d79-9fd8-6cf34c29ce43",
   "metadata": {},
   "outputs": [],
   "source": [
    "import dvrk\n",
    "# import sys\n",
    "import rospy\n",
    "import numpy as np\n",
    "import threading\n",
    "# import argparse\n",
    "from sensor_msgs.msg import Joy\n",
    "# from cisst_msgs.msg import prmCartesianImpedanceGains\n",
    "from dvrk import mtm\n",
    "\n",
    "m = mtm('MTMR')\n",
    "m.use_gravity_compensation(True)\n",
    "m.body.servo_cf(np.array([0.0, 0.0, 0.0, 0.0, 0.0, 0.0]))"
   ]
  },
  {
   "cell_type": "code",
   "execution_count": null,
   "id": "d69cd150-8145-4bb5-b3da-026bf112993f",
   "metadata": {
    "scrolled": true
   },
   "outputs": [],
   "source": [
    "coag_event = threading.Event()\n",
    "# foot pedal callback\n",
    "def coag_event_cb(data):\n",
    "    # print('~~~',data)\n",
    "    # if (data.buttons[0] == 1):\n",
    "    #     coag_event.set()\n",
    "    #     print('clutched')\n",
    "    # else:\n",
    "    #     print('not clutched',data.buttons[0])\n",
    "    print(data.buttons[0])\n",
    "    if data.buttons[0] == 1:\n",
    "        m.lock_orientation_as_is()\n",
    "    else:\n",
    "        m.unlock_orientation()\n",
    "    return data.buttons[0]\n",
    "rospy.Subscriber('footpedals/clutch',\n",
    "                 Joy, coag_event_cb)"
   ]
  },
  {
   "cell_type": "code",
   "execution_count": null,
   "id": "1160bdf7-8ee5-48a4-b2ba-a70deff20ea0",
   "metadata": {},
   "outputs": [],
   "source": [
    "i=0\n",
    "while i<250:\n",
    "    coag_event.clear()\n",
    "    coag_event.wait(1/250)\n",
    "    i+=1"
   ]
  },
  {
   "cell_type": "code",
   "execution_count": null,
   "id": "20c812ae-3b98-4c91-be5d-e0e871824b98",
   "metadata": {},
   "outputs": [],
   "source": []
  }
 ],
 "metadata": {
  "kernelspec": {
   "display_name": "Python 3 (ipykernel)",
   "language": "python",
   "name": "python3"
  },
  "language_info": {
   "codemirror_mode": {
    "name": "ipython",
    "version": 3
   },
   "file_extension": ".py",
   "mimetype": "text/x-python",
   "name": "python",
   "nbconvert_exporter": "python",
   "pygments_lexer": "ipython3",
   "version": "3.8.10"
  }
 },
 "nbformat": 4,
 "nbformat_minor": 5
}
